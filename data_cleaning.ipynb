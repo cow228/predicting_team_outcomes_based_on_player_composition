{
 "cells": [
  {
   "cell_type": "code",
   "execution_count": 6,
   "id": "a93b8ef5",
   "metadata": {},
   "outputs": [],
   "source": [
    "import pandas as pd\n",
    "import numpy as np\n",
    "import os"
   ]
  },
  {
   "cell_type": "code",
   "execution_count": 7,
   "id": "1ad8b38b",
   "metadata": {},
   "outputs": [],
   "source": [
    "def load_batting_stats(path):\n",
    "    seasons = sorted(c for c in os.listdir(path))\n",
    "    stan_batting_dfs = []\n",
    "    for season in seasons:\n",
    "        df = pd.read_csv(path + \"/\" + season)\n",
    "        df[\"year\"] = int(season.split(\"_\")[-1].split(\".\")[0])\n",
    "        stan_batting_dfs.append(df)\n",
    "\n",
    "    full_df = pd.concat(stan_batting_dfs, ignore_index=True)\n",
    "\n",
    "    return full_df"
   ]
  },
  {
   "cell_type": "code",
   "execution_count": 8,
   "id": "503c1e57",
   "metadata": {},
   "outputs": [],
   "source": [
    "def load_pitching_stats(path):\n",
    "    seasons = sorted(c for c in os.listdir(path))\n",
    "    stan_pitching_dfs = []\n",
    "    for season in seasons:\n",
    "        df = pd.read_csv(path + \"/\" + season)\n",
    "        df[\"year\"] = int(season.split(\"_\")[-1].split(\".\")[0])\n",
    "        stan_pitching_dfs.append(df)\n",
    "\n",
    "    full_df = pd.concat(stan_pitching_dfs, ignore_index=True)\n",
    "\n",
    "    return full_df"
   ]
  },
  {
   "cell_type": "code",
   "execution_count": 9,
   "id": "b2c553ac",
   "metadata": {},
   "outputs": [],
   "source": [
    "def load_salaries(path):\n",
    "    return pd.read_csv(path, encoding=\"latin1\")"
   ]
  },
  {
   "cell_type": "code",
   "execution_count": 10,
   "id": "4cdef102",
   "metadata": {},
   "outputs": [],
   "source": [
    "batting_folder = \"csv_files/stan_batting\"\n",
    "pitching_folder = \"csv_files/stan_pitching\"\n",
    "salary_path = \"csv_files/mlb_salary_data.csv\"\n",
    "\n",
    "batting_df = load_batting_stats(batting_folder)\n",
    "pitching_df = load_pitching_stats(pitching_folder)\n",
    "salary_df = load_salaries(salary_path)\n",
    "\n",
    "output_folder = \"concat_csv_data\"\n",
    "os.makedirs(\"csv_files\" + \"/\" + output_folder, exist_ok=True)\n",
    "\n",
    "batting_df.to_csv(\"csv_files/\" + output_folder + \"/\" + \"concat_batting.csv\")\n",
    "pitching_df.to_csv(\"csv_files/\" + output_folder + \"/\" + \"concat_pitching.csv\")\n",
    "salary_df.to_csv(\"csv_files/\" + output_folder + \"/\" + \"concat_salary.csv\")"
   ]
  }
 ],
 "metadata": {
  "kernelspec": {
   "display_name": "venv (3.13.7)",
   "language": "python",
   "name": "python3"
  },
  "language_info": {
   "codemirror_mode": {
    "name": "ipython",
    "version": 3
   },
   "file_extension": ".py",
   "mimetype": "text/x-python",
   "name": "python",
   "nbconvert_exporter": "python",
   "pygments_lexer": "ipython3",
   "version": "3.13.7"
  }
 },
 "nbformat": 4,
 "nbformat_minor": 5
}
